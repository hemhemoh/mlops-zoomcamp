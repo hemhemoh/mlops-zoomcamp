{
 "cells": [
  {
   "cell_type": "markdown",
   "id": "ca89b435-fa2b-4991-861c-ea0abac87a80",
   "metadata": {},
   "source": [
    "## Reading the datasets into dataframes"
   ]
  },
  {
   "cell_type": "code",
   "execution_count": 1,
   "id": "3b221ff3-93f9-4fe7-9b4b-8a43660d9a91",
   "metadata": {},
   "outputs": [],
   "source": [
    "import math\n",
    "import pickle\n",
    "import numpy as np\n",
    "import pandas as pd\n",
    "from sklearn.feature_extraction import DictVectorizer\n",
    "from sklearn.metrics import mean_squared_error\n",
    "from sklearn.linear_model import LinearRegression"
   ]
  },
  {
   "cell_type": "code",
   "execution_count": 2,
   "id": "b478b0d3-9e90-4bee-be6e-1756d8bfb31d",
   "metadata": {},
   "outputs": [],
   "source": [
    "jan = pd.read_parquet(\"https://d37ci6vzurychx.cloudfront.net/trip-data/yellow_tripdata_2023-01.parquet\")"
   ]
  },
  {
   "cell_type": "code",
   "execution_count": 3,
   "id": "831b9f07-04bf-4b8d-9350-4bd08ff8a785",
   "metadata": {},
   "outputs": [],
   "source": [
    "feb = pd.read_parquet(\"https://d37ci6vzurychx.cloudfront.net/trip-data/yellow_tripdata_2023-02.parquet\")"
   ]
  },
  {
   "cell_type": "markdown",
   "id": "c1592302-2b44-416a-9f86-ea75b4186e52",
   "metadata": {},
   "source": [
    "## Questions and answers"
   ]
  },
  {
   "cell_type": "code",
   "execution_count": 4,
   "id": "d4160548-1648-4405-8122-9462b7fba88b",
   "metadata": {},
   "outputs": [
    {
     "data": {
      "text/plain": [
       "19"
      ]
     },
     "execution_count": 4,
     "metadata": {},
     "output_type": "execute_result"
    }
   ],
   "source": [
    "#Q1 - number of columns in a dataframe\n",
    "len(jan.columns)"
   ]
  },
  {
   "cell_type": "code",
   "execution_count": 5,
   "id": "822f9cf8-92a3-4170-9e99-8a9e6638d4cd",
   "metadata": {},
   "outputs": [],
   "source": [
    "#Computing duration in the data frame by subtracting pickup time from drop off time and converting to minuetes\n",
    "jan['duration'] = jan.tpep_dropoff_datetime - jan.tpep_pickup_datetime \n",
    "jan['duration'] = jan['duration'].apply(lambda td: td.total_seconds() / 60)"
   ]
  },
  {
   "cell_type": "code",
   "execution_count": 6,
   "id": "faf9a8b0-5fc6-4f9f-aec0-52136d9b8370",
   "metadata": {},
   "outputs": [
    {
     "data": {
      "text/plain": [
       "count    3.066766e+06\n",
       "mean     1.566900e+01\n",
       "std      4.259435e+01\n",
       "min     -2.920000e+01\n",
       "25%      7.116667e+00\n",
       "50%      1.151667e+01\n",
       "75%      1.830000e+01\n",
       "max      1.002918e+04\n",
       "Name: duration, dtype: float64"
      ]
     },
     "execution_count": 6,
     "metadata": {},
     "output_type": "execute_result"
    }
   ],
   "source": [
    "#Q2 - using the describe method to compute standard deviation in the dataframe\n",
    "jan['duration'].describe()"
   ]
  },
  {
   "cell_type": "code",
   "execution_count": 7,
   "id": "6161b267-e93a-4c27-99e7-14eca49e6ea3",
   "metadata": {},
   "outputs": [],
   "source": [
    "#drop outliers in the dataframe\n",
    "df = jan.loc[(jan['duration'] >= 1) & (jan['duration'] <= 60)]"
   ]
  },
  {
   "cell_type": "code",
   "execution_count": 8,
   "id": "64f31a47-666b-40df-a1f4-1a798a357592",
   "metadata": {},
   "outputs": [
    {
     "name": "stdout",
     "output_type": "stream",
     "text": [
      "98 %\n"
     ]
    }
   ],
   "source": [
    "#Q3 -  calculate the fraction of records left after dropping outliers\n",
    "diff = len(jan) - len(df)\n",
    "x = diff / len(jan)\n",
    "fraction_dropped = x * 100\n",
    "fraction_left = 100 - fraction_dropped\n",
    "print(int(fraction_left),\"%\")"
   ]
  },
  {
   "cell_type": "code",
   "execution_count": 12,
   "id": "d138f446-e033-4c04-8f37-1a637a7c223d",
   "metadata": {},
   "outputs": [
    {
     "name": "stderr",
     "output_type": "stream",
     "text": [
      "/tmp/ipykernel_2299/3735120665.py:4: SettingWithCopyWarning: \n",
      "A value is trying to be set on a copy of a slice from a DataFrame.\n",
      "Try using .loc[row_indexer,col_indexer] = value instead\n",
      "\n",
      "See the caveats in the documentation: https://pandas.pydata.org/pandas-docs/stable/user_guide/indexing.html#returning-a-view-versus-a-copy\n",
      "  df[categorical] = df[categorical].astype('str')\n"
     ]
    },
    {
     "data": {
      "text/plain": [
       "2"
      ]
     },
     "execution_count": 12,
     "metadata": {},
     "output_type": "execute_result"
    }
   ],
   "source": [
    "#Q4 Converted into a list of dictionaries, fit a dictionary vector $ calculated the dimensionality of the feature matrix gotten\n",
    "categorical = ['PULocationID', 'DOLocationID']\n",
    "\n",
    "df[categorical] = df[categorical].astype('str')\n",
    "\n",
    "train_dicts = df[categorical].to_dict(orient='records')\n",
    "\n",
    "dv = DictVectorizer()\n",
    "\n",
    "X_train = dv.fit_transform(train_dicts)\n",
    "\n",
    "X_train.ndim\n",
    "#checking the dimensionality of this matrix"
   ]
  },
  {
   "cell_type": "code",
   "execution_count": 20,
   "id": "b004c3a9-60e3-40f2-9f7a-902d903442ab",
   "metadata": {},
   "outputs": [
    {
     "data": {
      "text/plain": [
       "7.649262223664065"
      ]
     },
     "execution_count": 20,
     "metadata": {},
     "output_type": "execute_result"
    }
   ],
   "source": [
    "#Q5 - training a model and evaluating on train\n",
    "y_train = df['duration'].values\n",
    "\n",
    "lr = LinearRegression()\n",
    "\n",
    "lr.fit(X_train, y_train)\n",
    "\n",
    "y_pred = lr.predict(X_train)\n",
    "\n",
    "math.sqrt(mean_squared_error(y_train, y_pred, squared = True))"
   ]
  },
  {
   "cell_type": "code",
   "execution_count": 16,
   "id": "aa7693cd-8ce7-4b03-9207-a0f4e21650a6",
   "metadata": {},
   "outputs": [
    {
     "name": "stderr",
     "output_type": "stream",
     "text": [
      "/tmp/ipykernel_2299/1993097769.py:10: SettingWithCopyWarning: \n",
      "A value is trying to be set on a copy of a slice from a DataFrame.\n",
      "Try using .loc[row_indexer,col_indexer] = value instead\n",
      "\n",
      "See the caveats in the documentation: https://pandas.pydata.org/pandas-docs/stable/user_guide/indexing.html#returning-a-view-versus-a-copy\n",
      "  df2[categorical] = df2[categorical].astype('str')\n"
     ]
    }
   ],
   "source": [
    "#Q6 - Prep\n",
    "\n",
    "feb['duration'] = feb.tpep_dropoff_datetime - feb.tpep_pickup_datetime \n",
    "feb['duration'] = feb['duration'].apply(lambda td: td.total_seconds() / 60)\n",
    "\n",
    "df2 = feb.loc[(feb['duration'] >= 1) & (feb['duration'] <= 60)]\n",
    "\n",
    "categorical = ['PULocationID', 'DOLocationID']\n",
    "\n",
    "df2[categorical] = df2[categorical].astype('str')\n",
    "\n",
    "val_dicts = df2[categorical].to_dict(orient='records')\n",
    "\n",
    "X_val = dv.transform(val_dicts)\n",
    "\n",
    "y_val = df2['duration'].values"
   ]
  },
  {
   "cell_type": "code",
   "execution_count": 19,
   "id": "37f4cd8b-6fa0-40aa-8e71-a0afbb058e87",
   "metadata": {},
   "outputs": [
    {
     "data": {
      "text/plain": [
       "7.811813876460096"
      ]
     },
     "execution_count": 19,
     "metadata": {},
     "output_type": "execute_result"
    }
   ],
   "source": [
    "# Q6 - Evaluating with test set\n",
    "\n",
    "y_pred2 = lr.predict(X_val)\n",
    "\n",
    "math.sqrt(mean_squared_error(y_val, y_pred2, squared = True))"
   ]
  },
  {
   "cell_type": "code",
   "execution_count": null,
   "id": "5957e63e-29b7-4598-905e-8c4227d35881",
   "metadata": {},
   "outputs": [],
   "source": []
  }
 ],
 "metadata": {
  "kernelspec": {
   "display_name": "Python 3 (ipykernel)",
   "language": "python",
   "name": "python3"
  },
  "language_info": {
   "codemirror_mode": {
    "name": "ipython",
    "version": 3
   },
   "file_extension": ".py",
   "mimetype": "text/x-python",
   "name": "python",
   "nbconvert_exporter": "python",
   "pygments_lexer": "ipython3",
   "version": "3.11.7"
  }
 },
 "nbformat": 4,
 "nbformat_minor": 5
}
